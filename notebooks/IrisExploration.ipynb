{
 "cells": [
  {
   "cell_type": "code",
   "execution_count": 1,
   "metadata": {
    "ExecuteTime": {
     "end_time": "2018-10-02T07:02:32.169185Z",
     "start_time": "2018-10-02T07:02:31.702093Z"
    }
   },
   "outputs": [],
   "source": [
    "import pandas as pd \n",
    "import matplotlib.pyplot as plt\n",
    "from sklearn import datasets"
   ]
  },
  {
   "cell_type": "code",
   "execution_count": 2,
   "metadata": {
    "ExecuteTime": {
     "end_time": "2018-10-02T07:12:12.900165Z",
     "start_time": "2018-10-02T07:12:12.893661Z"
    }
   },
   "outputs": [],
   "source": [
    "df_iris = pd.read_csv(\"./../data/iris.data\", header=None, \n",
    "                      names=['sepal_length','sepal_width' , 'petal_length', 'petal_width', 'target'])\n",
    "\n",
    "class_mapping = {v:k for k,v in dict(enumerate(df_iris.target.unique())).items()}"
   ]
  },
  {
   "cell_type": "code",
   "execution_count": 3,
   "metadata": {
    "ExecuteTime": {
     "end_time": "2018-10-02T07:12:13.466399Z",
     "start_time": "2018-10-02T07:12:13.455352Z"
    }
   },
   "outputs": [
    {
     "data": {
      "text/html": [
       "<div>\n",
       "<style scoped>\n",
       "    .dataframe tbody tr th:only-of-type {\n",
       "        vertical-align: middle;\n",
       "    }\n",
       "\n",
       "    .dataframe tbody tr th {\n",
       "        vertical-align: top;\n",
       "    }\n",
       "\n",
       "    .dataframe thead th {\n",
       "        text-align: right;\n",
       "    }\n",
       "</style>\n",
       "<table border=\"1\" class=\"dataframe\">\n",
       "  <thead>\n",
       "    <tr style=\"text-align: right;\">\n",
       "      <th></th>\n",
       "      <th>sepal_length</th>\n",
       "      <th>sepal_width</th>\n",
       "      <th>petal_length</th>\n",
       "      <th>petal_width</th>\n",
       "      <th>target</th>\n",
       "    </tr>\n",
       "  </thead>\n",
       "  <tbody>\n",
       "    <tr>\n",
       "      <th>0</th>\n",
       "      <td>5.1</td>\n",
       "      <td>3.5</td>\n",
       "      <td>1.4</td>\n",
       "      <td>0.2</td>\n",
       "      <td>Iris-setosa</td>\n",
       "    </tr>\n",
       "    <tr>\n",
       "      <th>1</th>\n",
       "      <td>4.9</td>\n",
       "      <td>3.0</td>\n",
       "      <td>1.4</td>\n",
       "      <td>0.2</td>\n",
       "      <td>Iris-setosa</td>\n",
       "    </tr>\n",
       "    <tr>\n",
       "      <th>2</th>\n",
       "      <td>4.7</td>\n",
       "      <td>3.2</td>\n",
       "      <td>1.3</td>\n",
       "      <td>0.2</td>\n",
       "      <td>Iris-setosa</td>\n",
       "    </tr>\n",
       "    <tr>\n",
       "      <th>3</th>\n",
       "      <td>4.6</td>\n",
       "      <td>3.1</td>\n",
       "      <td>1.5</td>\n",
       "      <td>0.2</td>\n",
       "      <td>Iris-setosa</td>\n",
       "    </tr>\n",
       "    <tr>\n",
       "      <th>4</th>\n",
       "      <td>5.0</td>\n",
       "      <td>3.6</td>\n",
       "      <td>1.4</td>\n",
       "      <td>0.2</td>\n",
       "      <td>Iris-setosa</td>\n",
       "    </tr>\n",
       "  </tbody>\n",
       "</table>\n",
       "</div>"
      ],
      "text/plain": [
       "   sepal_length  sepal_width  petal_length  petal_width       target\n",
       "0           5.1          3.5           1.4          0.2  Iris-setosa\n",
       "1           4.9          3.0           1.4          0.2  Iris-setosa\n",
       "2           4.7          3.2           1.3          0.2  Iris-setosa\n",
       "3           4.6          3.1           1.5          0.2  Iris-setosa\n",
       "4           5.0          3.6           1.4          0.2  Iris-setosa"
      ]
     },
     "execution_count": 3,
     "metadata": {},
     "output_type": "execute_result"
    }
   ],
   "source": [
    "df_iris.head()"
   ]
  },
  {
   "cell_type": "code",
   "execution_count": 4,
   "metadata": {
    "ExecuteTime": {
     "end_time": "2018-10-02T07:10:09.348369Z",
     "start_time": "2018-10-02T07:10:09.200176Z"
    }
   },
   "outputs": [
    {
     "data": {
      "text/plain": [
       "<matplotlib.axes._subplots.AxesSubplot at 0x123a9ecd710>"
      ]
     },
     "execution_count": 4,
     "metadata": {},
     "output_type": "execute_result"
    },
    {
     "data": {
      "image/png": "[encoded data removed]",
      "text/plain": [
       "<Figure size 432x288 with 1 Axes>"
      ]
     },
     "metadata": {},
     "output_type": "display_data"
    }
   ],
   "source": [
    "df_iris.sepal_length.hist()"
   ]
  },
  {
   "cell_type": "markdown",
   "metadata": {},
   "source": [
    "# Sepal Length/Sepal Width"
   ]
  },
  {
   "cell_type": "code",
   "execution_count": 5,
   "metadata": {
    "ExecuteTime": {
     "end_time": "2018-10-02T07:13:52.621103Z",
     "start_time": "2018-10-02T07:13:52.453295Z"
    }
   },
   "outputs": [
    {
     "data": {
      "text/plain": [
       "<matplotlib.collections.PathCollection at 0x123aa1852e8>"
      ]
     },
     "execution_count": 5,
     "metadata": {},
     "output_type": "execute_result"
    },
    {
     "data": {
      "image/png": "[encoded data removed]",
      "text/plain": [
       "<Figure size 432x288 with 1 Axes>"
      ]
     },
     "metadata": {},
     "output_type": "display_data"
    }
   ],
   "source": [
    "plt.scatter(df_iris.sepal_length.tolist(), df_iris.sepal_width.tolist(),\n",
    "            c=df_iris.target.apply(lambda x: class_mapping[x]).tolist())"
   ]
  },
  {
   "cell_type": "markdown",
   "metadata": {},
   "source": [
    "# Sepal Length/ Petal Length"
   ]
  },
  {
   "cell_type": "code",
   "execution_count": 6,
   "metadata": {
    "ExecuteTime": {
     "end_time": "2018-10-02T07:14:17.043483Z",
     "start_time": "2018-10-02T07:14:16.842065Z"
    }
   },
   "outputs": [
    {
     "data": {
      "text/plain": [
       "<matplotlib.collections.PathCollection at 0x123aa1f2898>"
      ]
     },
     "execution_count": 6,
     "metadata": {},
     "output_type": "execute_result"
    },
    {
     "data": {
      "image/png": "[encoded data removed]",
      "text/plain": [
       "<Figure size 432x288 with 1 Axes>"
      ]
     },
     "metadata": {},
     "output_type": "display_data"
    }
   ],
   "source": [
    "plt.scatter(df_iris.sepal_length.tolist(),\n",
    "            df_iris.petal_length.tolist(),\n",
    "            c=df_iris.target.apply(lambda x: class_mapping[x]).tolist())"
   ]
  },
  {
   "cell_type": "markdown",
   "metadata": {},
   "source": [
    "# Sepal Length/Petal Width"
   ]
  },
  {
   "cell_type": "code",
   "execution_count": 7,
   "metadata": {},
   "outputs": [
    {
     "data": {
      "text/plain": [
       "<matplotlib.image.AxesImage at 0x123aa2541d0>"
      ]
     },
     "execution_count": 7,
     "metadata": {},
     "output_type": "execute_result"
    },
    {
     "data": {
      "image/png": "[encoded data removed]",
      "text/plain": [
       "<Figure size 288x288 with 1 Axes>"
      ]
     },
     "metadata": {},
     "output_type": "display_data"
    }
   ],
   "source": [
    "plt.matshow(df_iris.corr(), cmap=plt.cm.Purples)"
   ]
  },
  {
   "cell_type": "code",
   "execution_count": 8,
   "metadata": {
    "ExecuteTime": {
     "end_time": "2018-10-02T07:15:34.008778Z",
     "start_time": "2018-10-02T07:15:33.865476Z"
    }
   },
   "outputs": [
    {
     "data": {
      "text/plain": [
       "<matplotlib.collections.PathCollection at 0x123aa2ae128>"
      ]
     },
     "execution_count": 8,
     "metadata": {},
     "output_type": "execute_result"
    },
    {
     "data": {
      "image/png": "[encoded data removed]",
      "text/plain": [
       "<Figure size 432x288 with 1 Axes>"
      ]
     },
     "metadata": {},
     "output_type": "display_data"
    }
   ],
   "source": [
    "plt.scatter(df_iris.sepal_length.tolist(),\n",
    "            df_iris.petal_width.tolist(),\n",
    "            c=df_iris.target.apply(lambda x: class_mapping[x]).tolist())"
   ]
  },
  {
   "cell_type": "markdown",
   "metadata": {},
   "source": [
    "# Régression logistique"
   ]
  },
  {
   "cell_type": "markdown",
   "metadata": {},
   "source": [
    "### Fonction d'affichage de la matrice de confusion et du score"
   ]
  },
  {
   "cell_type": "code",
   "execution_count": 9,
   "metadata": {},
   "outputs": [],
   "source": [
    "from IPython.display import HTML, display, display_html \n",
    "import numpy as np\n",
    "import pandas as pd\n",
    "\n",
    "def mycfm(y_true, y_pred):  \n",
    "    \"\"\"\n",
    "    Rend une jolie matrice de confusion (cas binaire) et les principaux scores associés\n",
    "    \n",
    "    Arguments :\n",
    "    -----------\n",
    "    y_true: array\n",
    "         les vraies classes\n",
    "    y_pred: array\n",
    "         les classes prédites \n",
    "    \"\"\"\n",
    "    CC=pd.crosstab(y_true, y_pred, rownames=['True'], colnames=['Predicted'], margins=True)\n",
    "    \"\"\"try:\n",
    "        display_html(CC)\n",
    "    except:\n",
    "        print(CC)\n",
    "    \"\"\"    \n",
    "    print(CC)    \n",
    "    C=np.array(CC)\n",
    "    score=np.sum(np.diag(C))/len(y_true) - 1\n",
    "    precision = np.diag(C)/C[:,-1]\n",
    "    print()\n",
    "    print('{s:{c}<{n}}{num:2.3}'.format(s='Score',n=15,c='', num=score))\n",
    "    print(precision[:-2])"
   ]
  },
  {
   "cell_type": "markdown",
   "metadata": {},
   "source": [
    "### Apprentissage"
   ]
  },
  {
   "cell_type": "code",
   "execution_count": 10,
   "metadata": {},
   "outputs": [
    {
     "name": "stdout",
     "output_type": "stream",
     "text": [
      "Predicted        Iris-setosa  Iris-versicolor  Iris-virginica  All\n",
      "True                                                              \n",
      "Iris-setosa               11                0               0   11\n",
      "Iris-versicolor            0                8               1    9\n",
      "Iris-virginica             0                0              18   18\n",
      "All                       11                8              19   38\n",
      "\n",
      "Score          0.974\n",
      "[1.         0.88888889]\n"
     ]
    },
    {
     "name": "stderr",
     "output_type": "stream",
     "text": [
      "C:\\Program Files (x86)\\Microsoft Visual Studio\\Shared\\Anaconda3_64\\lib\\site-packages\\sklearn\\linear_model\\logistic.py:433: FutureWarning: Default solver will be changed to 'lbfgs' in 0.22. Specify a solver to silence this warning.\n",
      "  FutureWarning)\n",
      "C:\\Program Files (x86)\\Microsoft Visual Studio\\Shared\\Anaconda3_64\\lib\\site-packages\\sklearn\\linear_model\\logistic.py:460: FutureWarning: Default multi_class will be changed to 'auto' in 0.22. Specify the multi_class option to silence this warning.\n",
      "  \"this warning.\", FutureWarning)\n"
     ]
    }
   ],
   "source": [
    "import sklearn\n",
    "from sklearn.linear_model import LogisticRegression\n",
    "from sklearn.model_selection import train_test_split\n",
    "from sklearn.metrics import confusion_matrix\n",
    "\n",
    "classifier = LogisticRegression()\n",
    "features = df_iris[['sepal_length', 'sepal_width', 'petal_length', 'petal_width']]\n",
    "target = df_iris['target']\n",
    "\n",
    "#Split en deux, une base test et une base d'apprentissage\n",
    "features_train, features_test, target_train, target_test = train_test_split(\n",
    "    features, target)\n",
    "\n",
    "# Apprentissage sur la base d'apprentissage\n",
    "classifier.fit(features_train, target_train)\n",
    "score = classifier.score(features_test, target_test)\n",
    "\n",
    "y_true = target_test\n",
    "y_pred_cls = classifier.predict(features_test)\n",
    "mycfm(y_true, y_pred_cls)"
   ]
  },
  {
   "cell_type": "markdown",
   "metadata": {},
   "source": [
    "### Apprentissage en découpant de manière optimale les données\n"
   ]
  },
  {
   "cell_type": "code",
   "execution_count": 11,
   "metadata": {},
   "outputs": [
    {
     "name": "stderr",
     "output_type": "stream",
     "text": [
      "C:\\Program Files (x86)\\Microsoft Visual Studio\\Shared\\Anaconda3_64\\lib\\site-packages\\sklearn\\model_selection\\_split.py:624: FutureWarning: You should specify a value for 'n_splits' instead of relying on the default value. The default value will change from 3 to 5 in version 0.22.\n",
      "  warnings.warn(NSPLIT_WARNING, FutureWarning)\n",
      "C:\\Program Files (x86)\\Microsoft Visual Studio\\Shared\\Anaconda3_64\\lib\\site-packages\\sklearn\\linear_model\\logistic.py:460: FutureWarning: Default multi_class will be changed to 'auto' in 0.22. Specify the multi_class option to silence this warning.\n",
      "  \"this warning.\", FutureWarning)\n"
     ]
    },
    {
     "name": "stdout",
     "output_type": "stream",
     "text": [
      "Score sur la base de test :  0.9736842105263158\n",
      "L'intercept identifié [  1.36941384   7.18794364 -22.52691917]\n",
      "Les coefficients :  [-0.13038279  0.07501246 -0.38902886 -0.16094089]\n"
     ]
    }
   ],
   "source": [
    "from sklearn.linear_model import LogisticRegressionCV\n",
    "from sklearn.model_selection import StratifiedKFold\n",
    "\n",
    "skf = StratifiedKFold()\n",
    "\n",
    "lrcv = LogisticRegressionCV(cv=4, )\n",
    "\n",
    "lrcv.fit(features, target)\n",
    "\n",
    "lrcv.score(features, target)\n",
    "print(\"Score sur la base de test : \", score)\n",
    "\n",
    "print(\"L'intercept identifié\", lrcv.intercept_)\n",
    "intercept = lrcv.intercept_\n",
    "print(\"Les coefficients : \", lrcv.coef_[0])\n",
    "coeffs = lrcv.coef_[0]"
   ]
  },
  {
   "cell_type": "markdown",
   "metadata": {},
   "source": [
    "# K plus proche voisin"
   ]
  },
  {
   "cell_type": "markdown",
   "metadata": {},
   "source": [
    "### Basique"
   ]
  },
  {
   "cell_type": "code",
   "execution_count": 12,
   "metadata": {
    "scrolled": true
   },
   "outputs": [
    {
     "name": "stdout",
     "output_type": "stream",
     "text": [
      "Score sur la base de test :  0.8894179894179896\n",
      "Predicted  0.0  1.0  1.2  1.4  1.6  1.8  2.0  All\n",
      "True                                             \n",
      "0           11    0    0    0    0    0    0   11\n",
      "1            0   14    0    1    2    1    0   18\n",
      "2            0    0    1    0    0    1    7    9\n",
      "All         11   14    1    1    2    2    7   38\n",
      "\n",
      "Score          -0.289\n",
      "[1.         0.77777778]\n"
     ]
    }
   ],
   "source": [
    "from sklearn import neighbors\n",
    "from sklearn import preprocessing\n",
    "from sklearn.metrics import confusion_matrix\n",
    "from sklearn.neighbors import KNeighborsRegressor\n",
    "\n",
    "features = df_iris[['sepal_length', 'sepal_width', 'petal_length', 'petal_width']]\n",
    "\n",
    "# Converting string labels into numbers\n",
    "le = preprocessing.LabelEncoder()\n",
    "target = le.fit_transform(df_iris['target'])\n",
    "\n",
    "#Split en deux, une base test et une base d'apprentissage\n",
    "features_train, features_test, target_train, target_test = train_test_split(\n",
    "    features, target)\n",
    "\n",
    "\n",
    "k = 5\n",
    "knn = KNeighborsRegressor(k)\n",
    "knn.fit(features_train, target_train)\n",
    "\n",
    "score = knn.score(features_test, target_test)\n",
    "\n",
    "print(\"Score sur la base de test : \", score)\n",
    "\n",
    "y_true = target_test\n",
    "y_pred_cls = knn.predict(features_test)\n",
    "mycfm(y_true, y_pred_cls)"
   ]
  },
  {
   "cell_type": "markdown",
   "metadata": {},
   "source": [
    "### Cross validation avec choix avec choix automatique du nombre de voisins "
   ]
  },
  {
   "cell_type": "code",
   "execution_count": 13,
   "metadata": {},
   "outputs": [
    {
     "name": "stdout",
     "output_type": "stream",
     "text": [
      "Le meilleur k est 5 pour un score de 0.994\n"
     ]
    }
   ],
   "source": [
    "from sklearn.model_selection import cross_val_score\n",
    "from sklearn.model_selection import GridSearchCV\n",
    "\n",
    "ks = np.arange(1,50)\n",
    "R2 = np.zeros((len(ks)+1, 5))\n",
    "\n",
    "for i in ks:\n",
    "    knn = KNeighborsRegressor(n_neighbors = i)\n",
    "    R2[i] = cross_val_score(knn, features, target, cv = 5)\n",
    "\n",
    "R2[R2==1] = 0\n",
    "print(\"Le meilleur k est %s pour un score de %s\" %(np.unravel_index(R2.argmax(), R2.shape)[0], np.amax(R2)))"
   ]
  },
  {
   "cell_type": "markdown",
   "metadata": {},
   "source": [
    "# Pipeline"
   ]
  },
  {
   "cell_type": "markdown",
   "metadata": {},
   "source": [
    "### Utilisation de GridSearch pour faire de la cross validation et choix auto du nombre de voisins "
   ]
  },
  {
   "cell_type": "code",
   "execution_count": 14,
   "metadata": {},
   "outputs": [
    {
     "data": {
      "text/plain": [
       "GridSearchCV(cv=5, error_score='raise-deprecating',\n",
       "       estimator=KNeighborsClassifier(algorithm='auto', leaf_size=30, metric='minkowski',\n",
       "           metric_params=None, n_jobs=None, n_neighbors=5, p=2,\n",
       "           weights='uniform'),\n",
       "       fit_params=None, iid='warn', n_jobs=None,\n",
       "       param_grid=[{'n_neighbors': array([ 1,  2,  3,  4,  5,  6,  7,  8,  9, 10, 11, 12, 13, 14, 15, 16, 17,\n",
       "       18, 19, 20, 21, 22, 23, 24, 25, 26, 27, 28, 29, 30, 31, 32, 33, 34,\n",
       "       35, 36, 37, 38, 39, 40, 41, 42, 43, 44, 45, 46, 47, 48, 49])}],\n",
       "       pre_dispatch='2*n_jobs', refit=True, return_train_score='warn',\n",
       "       scoring=None, verbose=0)"
      ]
     },
     "execution_count": 14,
     "metadata": {},
     "output_type": "execute_result"
    }
   ],
   "source": [
    "from sklearn.neighbors import KNeighborsClassifier as knn\n",
    "\n",
    "param_grid = [{'n_neighbors': np.arange(1,50)}]\n",
    "\n",
    "clf = GridSearchCV(knn(), param_grid, cv=5)\n",
    "clf.fit(features, target)"
   ]
  },
  {
   "cell_type": "code",
   "execution_count": 15,
   "metadata": {},
   "outputs": [
    {
     "name": "stdout",
     "output_type": "stream",
     "text": [
      "0.98\n",
      "{'n_neighbors': 6}\n"
     ]
    }
   ],
   "source": [
    "print(clf.best_score_)\n",
    "print(clf.best_params_)\n",
    "#clf.grid_scores_"
   ]
  },
  {
   "cell_type": "markdown",
   "metadata": {},
   "source": [
    "### Création d'une pipeline "
   ]
  },
  {
   "cell_type": "code",
   "execution_count": 75,
   "metadata": {},
   "outputs": [
    {
     "name": "stdout",
     "output_type": "stream",
     "text": [
      "0.98\n",
      "{'clf__n_neighbors': 7}\n"
     ]
    }
   ],
   "source": [
    "from sklearn.base import BaseEstimator, TransformerMixin\n",
    "from sklearn.pipeline import Pipeline\n",
    "from tempfile import mkdtemp\n",
    "from shutil import rmtree\n",
    "from sklearn.decomposition import PCA\n",
    "\n",
    "estimators = [('reduce_dim', PCA()), ('classifier', knn())]\n",
    "#Mise en cache des tranformers pour réduire le temps de calcul\n",
    "cachedir = mkdtemp()\n",
    "\n",
    "#Création de la pipeline\n",
    "pipe = Pipeline(estimators, memory=cachedir)\n",
    "\n",
    "#Paramètre à tester pour trouver le bon nombre de voisins\n",
    "param_grid = [{'clf__n_neighbors': np.arange(1,50)}]\n",
    "\n",
    "#Appel de la pipeline en utilisant de la cross validation\n",
    "clf = GridSearchCV(pipe, param_grid, cv=5)\n",
    "clf.fit(features, target)\n",
    "\n",
    "print(clf.best_score_)\n",
    "print(clf.best_params_)\n",
    "\n",
    "rmtree(cachedir)"
   ]
  },
  {
   "cell_type": "code",
   "execution_count": 17,
   "metadata": {},
   "outputs": [
    {
     "data": {
      "text/plain": [
       "ColumnTransformer(n_jobs=None, remainder='drop', sparse_threshold=0.3,\n",
       "         transformer_weights=None,\n",
       "         transformers=[('iris_category', CountVectorizer(analyzer=<function <lambda> at 0x00000123AA6A81E0>,\n",
       "        binary=False, decode_error='strict', dtype=<class 'numpy.int64'>,\n",
       "        encoding='utf-8', input='content', lowercase=True, max_df=1.0,\n",
       "        max_features=None, min_df=1, ngram_range=(1, 1), preprocessor=None,\n",
       "        stop_words=None, strip_accents=None,\n",
       "        token_pattern='(?u)\\\\b\\\\w\\\\w+\\\\b', tokenizer=None, vocabulary=None), 'target')])"
      ]
     },
     "execution_count": 17,
     "metadata": {},
     "output_type": "execute_result"
    }
   ],
   "source": [
    "from sklearn.compose import ColumnTransformer\n",
    "from sklearn.feature_extraction.text import CountVectorizer\n",
    "\n",
    "column_trans = ColumnTransformer(\n",
    "     [('iris_category', CountVectorizer(analyzer=lambda x: [x]), 'target')],\n",
    "      remainder='drop')\n",
    "\n",
    "column_trans.fit(df_iris)"
   ]
  },
  {
   "cell_type": "markdown",
   "metadata": {},
   "source": [
    "### Création de la fonction load"
   ]
  },
  {
   "cell_type": "code",
   "execution_count": 66,
   "metadata": {},
   "outputs": [],
   "source": [
    "import importlib\n",
    "\n",
    "def load(path)\n",
    "    '''\n",
    "    Input : path of the file\n",
    "    output : object containing the data loaded in memory\n",
    "    '''\n",
    "    #On récupère le nom de l'extension du fichier\n",
    "    type = path.split(\".\")[-1]\n",
    "    \n",
    "    #Selection de la bonne fonction de pandas à utiliser\n",
    "    func_to_call = 'read_{}'.format(type)\n",
    "    \n",
    "    #Récupération de l'attribut de la fonction pour l'appeler\n",
    "    try :\n",
    "        func = getattr(pd, func_to_call)\n",
    "    except :\n",
    "        print(\"Pas de fonction disponible dans pandas pour lire les données\")\n",
    "        return -1\n",
    "    \n",
    "    #Lecture des données\n",
    "    try :\n",
    "        return func(path)\n",
    "    except :\n",
    "        print(\"path incorrect\")\n",
    "        return -1"
   ]
  },
  {
   "cell_type": "code",
   "execution_count": 62,
   "metadata": {},
   "outputs": [],
   "source": [
    "b = load('./../data/iris.csv')"
   ]
  },
  {
   "cell_type": "markdown",
   "metadata": {},
   "source": [
    "### Récupération du type de machine learning effectuer dans la pipeline"
   ]
  },
  {
   "cell_type": "code",
   "execution_count": 77,
   "metadata": {},
   "outputs": [],
   "source": [
    "classifier = clf.best_estimator_.named_steps['classifier']"
   ]
  },
  {
   "cell_type": "code",
   "execution_count": 82,
   "metadata": {},
   "outputs": [
    {
     "data": {
      "text/plain": [
       "<bound method BaseEstimator.get_params of GridSearchCV(cv=5, error_score='raise-deprecating',\n",
       "       estimator=Pipeline(memory='C:\\\\Users\\\\elias\\\\AppData\\\\Local\\\\Temp\\\\tmp37f6n3fj',\n",
       "     steps=[('reduce_dim', PCA(copy=True, iterated_power='auto', n_components=None, random_state=None,\n",
       "  svd_solver='auto', tol=0.0, whiten=False)), ('clf', KNeighborsClassifier(algorithm='auto', leaf_size=30, metric='minkowski',\n",
       "           metric_params=None, n_jobs=None, n_neighbors=5, p=2,\n",
       "           weights='uniform'))]),\n",
       "       fit_params=None, iid='warn', n_jobs=None,\n",
       "       param_grid=[{'clf__n_neighbors': array([ 1,  2,  3,  4,  5,  6,  7,  8,  9, 10, 11, 12, 13, 14, 15, 16, 17,\n",
       "       18, 19, 20, 21, 22, 23, 24, 25, 26, 27, 28, 29, 30, 31, 32, 33, 34,\n",
       "       35, 36, 37, 38, 39, 40, 41, 42, 43, 44, 45, 46, 47, 48, 49])}],\n",
       "       pre_dispatch='2*n_jobs', refit=True, return_train_score='warn',\n",
       "       scoring=None, verbose=0)>"
      ]
     },
     "execution_count": 82,
     "metadata": {},
     "output_type": "execute_result"
    }
   ],
   "source": [
    "clf.get_params"
   ]
  },
  {
   "cell_type": "code",
   "execution_count": null,
   "metadata": {},
   "outputs": [],
   "source": []
  }
 ],
 "metadata": {
  "kernelspec": {
   "display_name": "R",
   "language": "R",
   "name": "ir"
  },
  "language_info": {
   "codemirror_mode": "r",
   "file_extension": ".r",
   "mimetype": "text/x-r-source",
   "name": "R",
   "pygments_lexer": "r",
   "version": "3.5.2"
  },
  "varInspector": {
   "cols": {
    "lenName": 16,
    "lenType": 16,
    "lenVar": 40
   },
   "kernels_config": {
    "python": {
     "delete_cmd_postfix": "",
     "delete_cmd_prefix": "del ",
     "library": "var_list.py",
     "varRefreshCmd": "print(var_dic_list())"
    },
    "r": {
     "delete_cmd_postfix": ") ",
     "delete_cmd_prefix": "rm(",
     "library": "var_list.r",
     "varRefreshCmd": "cat(var_dic_list()) "
    }
   },
   "types_to_exclude": [
    "module",
    "function",
    "builtin_function_or_method",
    "instance",
    "_Feature"
   ],
   "window_display": false
  }
 },
 "nbformat": 4,
 "nbformat_minor": 2
}
